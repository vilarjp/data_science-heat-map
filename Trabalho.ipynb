{
  "nbformat": 4,
  "nbformat_minor": 0,
  "metadata": {
    "colab": {
      "name": "Trabalho.ipynb",
      "version": "0.3.2",
      "provenance": [],
      "collapsed_sections": []
    },
    "kernelspec": {
      "name": "python3",
      "display_name": "Python 3"
    },
    "accelerator": "TPU"
  },
  "cells": [
    {
      "cell_type": "code",
      "metadata": {
        "id": "yAeXb8TQOzN8",
        "colab_type": "code",
        "colab": {}
      },
      "source": [
        "!pip install folium geocoder"
      ],
      "execution_count": 0,
      "outputs": []
    },
    {
      "cell_type": "code",
      "metadata": {
        "id": "_1NW3wR-P8x5",
        "colab_type": "code",
        "colab": {}
      },
      "source": [
        "import pandas as pd\n",
        "import numpy as np\n",
        "import branca\n",
        "import geocoder\n",
        "import folium\n",
        "from folium.plugins import HeatMap\n",
        "from folium import plugins\n",
        "\n",
        "# Importando e limpando os dados do dataset\n",
        "countries = pd.read_csv(\"country_centroids_az8.csv\", encoding = 'utf-8')\n",
        "countries = countries[['name', 'Longitude', 'Latitude']]\n",
        "countries = countries.rename(columns = {\"name\": \"Country\"})\n",
        "\n",
        "hapiness = pd.read_csv(\"2017.csv\", encoding = 'utf-8')\n",
        "hapiness = hapiness[['Country', 'Happiness.Rank', 'Happiness.Score']]\n",
        "\n",
        "data = pd.merge(countries, hapiness, on = \"Country\", how='left')\n",
        "data = data.dropna().sort_values(by='Happiness.Rank')\n"
      ],
      "execution_count": 0,
      "outputs": []
    },
    {
      "cell_type": "code",
      "metadata": {
        "id": "gP-q7C61Ppis",
        "colab_type": "code",
        "colab": {}
      },
      "source": [
        "# Criando mapa com os marcadores e os índices de felicidade\n",
        "geoLoc = list(zip(data['Latitude'].astype(float),data['Longitude'].astype(float),data['Happiness.Score']))\n",
        "m = folium.Map(location =[17.218588,-26.398860],zoom_start =5,tiles = 'Stamen Terrain',width='100%' ,height='100%')\n",
        "for i in range(142):\n",
        "  folium.Marker([geoLoc[i][0],geoLoc[i][1]], popup=str(geoLoc[i][2]),tooltip = 'Happiness score').add_to(m)\n",
        "  \n",
        "m"
      ],
      "execution_count": 0,
      "outputs": []
    },
    {
      "cell_type": "code",
      "metadata": {
        "id": "W9I88pSGZJ4z",
        "colab_type": "code",
        "colab": {}
      },
      "source": [
        "# Criando mapa calor de acordo com os índices de felicidade\n",
        "max_amount = float(data['Happiness.Score'].max())\n",
        "heat_map = folium.Map(location =[17.218588,-26.398860],zoom_start = 3,tiles = 'Stamen Terrain',width='100%' ,height='100%')\n",
        "HeatMap(list(zip(data['Latitude'].astype(float),data['Longitude'].astype(float),data['Happiness.Score'])),\n",
        "        min_opacity=0.1,\n",
        "        max_val=max_amount,\n",
        "        radius=35,\n",
        "        blur=15, \n",
        "        max_zoom=1, \n",
        ").add_to(heat_map)\n",
        "heat_map"
      ],
      "execution_count": 0,
      "outputs": []
    },
    {
      "cell_type": "code",
      "metadata": {
        "id": "fXDLm8iyKrjK",
        "colab_type": "code",
        "colab": {}
      },
      "source": [
        "# Combinando o mapa com os marcadores com o mapa de calor e criando um único mapa\n",
        "m = folium.Map(location =[17.218588,-26.398860],zoom_start =5,tiles = 'Stamen Terrain',width='100%' ,height='100%')\n",
        "\n",
        "for i in range(142):\n",
        "  folium.Marker([geoLoc[i][0],geoLoc[i][1]], popup=str(geoLoc[i][2]),tooltip = 'Happiness score').add_to(m)\n",
        "\n",
        "HeatMap(list(zip(data['Latitude'].astype(float),data['Longitude'].astype(float),data['Happiness.Score'])),\n",
        "        min_opacity=0.1,\n",
        "        max_val=max_amount,\n",
        "        radius=28,\n",
        "        blur=15, \n",
        "        max_zoom=1, \n",
        ").add_to(m)\n",
        "   \n",
        "m"
      ],
      "execution_count": 0,
      "outputs": []
    },
    {
      "cell_type": "code",
      "metadata": {
        "id": "ArV5vPQnwNvK",
        "colab_type": "code",
        "colab": {}
      },
      "source": [
        "# Gerando página interativa com o mapa final\n",
        "m.save('index.html')\n",
        "from google.colab import files\n",
        "files.download('index.html')"
      ],
      "execution_count": 0,
      "outputs": []
    }
  ]
}